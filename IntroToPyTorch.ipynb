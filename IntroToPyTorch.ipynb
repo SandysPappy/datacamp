{
 "cells": [
  {
   "cell_type": "markdown",
   "id": "da86a5e5",
   "metadata": {},
   "source": [
    "# Introduction to deep learning with PyTorch"
   ]
  },
  {
   "cell_type": "code",
   "execution_count": 1,
   "id": "45995b47",
   "metadata": {},
   "outputs": [
    {
     "name": "stdout",
     "output_type": "stream",
     "text": [
      "cpu\n",
      "torch.int64\n"
     ]
    }
   ],
   "source": [
    "# Import PyTorch\n",
    "import torch\n",
    "import torchvision\n",
    "import numpy as np\n",
    "import torch.nn as nn\n",
    "from PIL import Image\n",
    "import matplotlib.pyplot as plt\n",
    "\n",
    "list_a = [1, 2, 3, 4]\n",
    "\n",
    "# Create a tensor from list_a\n",
    "tensor_a = torch.tensor(list_a)\n",
    "\n",
    "# Display the tensor device\n",
    "print(tensor_a.device)\n",
    "\n",
    "# Display the tensor data type\n",
    "print(tensor_a.dtype)"
   ]
  },
  {
   "cell_type": "code",
   "execution_count": 2,
   "id": "7ae4d83a",
   "metadata": {},
   "outputs": [
    {
     "data": {
      "text/plain": [
       "True"
      ]
     },
     "execution_count": 2,
     "metadata": {},
     "output_type": "execute_result"
    }
   ],
   "source": [
    "torch.cuda.is_available()"
   ]
  },
  {
   "cell_type": "code",
   "execution_count": 3,
   "id": "0142220d",
   "metadata": {},
   "outputs": [
    {
     "data": {
      "text/plain": [
       "<torch.cuda.device at 0x7fa39c539610>"
      ]
     },
     "execution_count": 3,
     "metadata": {},
     "output_type": "execute_result"
    }
   ],
   "source": [
    "torch.cuda.device(0)"
   ]
  },
  {
   "cell_type": "code",
   "execution_count": 4,
   "id": "9de8a2d4",
   "metadata": {},
   "outputs": [
    {
     "data": {
      "text/plain": [
       "'NVIDIA GeForce RTX 3080 Ti'"
      ]
     },
     "execution_count": 4,
     "metadata": {},
     "output_type": "execute_result"
    }
   ],
   "source": [
    "torch.cuda.get_device_name(0)"
   ]
  },
  {
   "cell_type": "markdown",
   "id": "b94bb6d3",
   "metadata": {},
   "source": [
    "# Move the tensor to be used on the GPU"
   ]
  },
  {
   "cell_type": "code",
   "execution_count": 5,
   "id": "1d1a9417",
   "metadata": {},
   "outputs": [
    {
     "name": "stdout",
     "output_type": "stream",
     "text": [
      "tensor([2, 4, 6], device='cuda:0')\n"
     ]
    }
   ],
   "source": [
    "import torch\n",
    "\n",
    "# Create a tensor on CPU\n",
    "tensor_cpu = torch.tensor([1, 2, 3])\n",
    "\n",
    "# Check if a GPU is available\n",
    "if torch.cuda.is_available():\n",
    "    # Move the tensor to GPU\n",
    "    tensor_gpu = tensor_cpu.to('cuda')\n",
    "    # Alternatively, you can also use tensor_gpu = tensor_cpu.cuda()\n",
    "    # Now tensor_gpu resides on the GPU and computations will be done there\n",
    "else:\n",
    "    print(\"No GPU available, performing computations on CPU.\")\n",
    "\n",
    "# Perform operations on the tensor\n",
    "result = tensor_gpu * 2\n",
    "print(result)\n"
   ]
  },
  {
   "cell_type": "code",
   "execution_count": 6,
   "id": "54807b16",
   "metadata": {
    "scrolled": true
   },
   "outputs": [
    {
     "data": {
      "text/plain": [
       "device(type='cuda', index=0)"
      ]
     },
     "execution_count": 6,
     "metadata": {},
     "output_type": "execute_result"
    }
   ],
   "source": [
    "tensor_gpu.device"
   ]
  },
  {
   "cell_type": "markdown",
   "id": "975d1feb",
   "metadata": {},
   "source": [
    "# Reading in and Visualizing CIFAR 10 dataset"
   ]
  },
  {
   "cell_type": "markdown",
   "id": "1492a5f7",
   "metadata": {},
   "source": [
    "### Downloading the dataset"
   ]
  },
  {
   "cell_type": "markdown",
   "id": "62fcd66f",
   "metadata": {},
   "source": [
    "CIFAR 10 dataset's serialized peter piper's pickled python peppers are downloadable in 5 batches\n",
    "\n",
    "Dataset: https://www.cs.toronto.edu/~kriz/cifar.html\n",
    "\n",
    "For help see: https://www.binarystudy.com/2021/09/how-to-load-preprocess-visualize-CIFAR-10-and-CIFAR-100.html#download"
   ]
  },
  {
   "cell_type": "markdown",
   "id": "fc8a161c",
   "metadata": {},
   "source": [
    "Download the dataset: $ curl -O \"https://www.cs.toronto.edu/~kriz/cifar-10-python.tar.gz\"\n",
    "\n",
    "Extract the downloaded file: $ tar -xzf cifar-10-python.tar.gz\n",
    "    \n",
    "Remove the downloaded tarball: $ rm cifar-10-python.tar.gz\n"
   ]
  },
  {
   "cell_type": "code",
   "execution_count": 7,
   "id": "ea92d96d",
   "metadata": {},
   "outputs": [],
   "source": [
    "# Pickled files are downloaded locally\n",
    "# The following are relative paths from my current directory\n",
    "batch_1_path = r'../datasets/cifar-10/cifar-10-batches-py/data_batch_1'\n",
    "batch_2_path = r'../datasets/cifar-10/cifar-10-batches-py/data_batch_2'\n",
    "batch_3_path = r'../datasets/cifar-10/cifar-10-batches-py/data_batch_3'\n",
    "batch_4_path = r'../datasets/cifar-10/cifar-10-batches-py/data_batch_4'\n",
    "batch_5_path = r'../datasets/cifar-10/cifar-10-batches-py/data_batch_5'"
   ]
  },
  {
   "cell_type": "code",
   "execution_count": 8,
   "id": "96d133ce",
   "metadata": {},
   "outputs": [],
   "source": [
    "# reads our batched pickled binaries\n",
    "def unpickle(file):\n",
    "    import pickle\n",
    "    with open(file, 'rb') as fo:\n",
    "        # The protocol version used is detected automatically, so we do not\n",
    "        # have to specify it.\n",
    "        dict = pickle.load(fo, encoding='latin1')\n",
    "    return dict"
   ]
  },
  {
   "cell_type": "markdown",
   "id": "20b348f4",
   "metadata": {},
   "source": [
    "## Reading in the first batch"
   ]
  },
  {
   "cell_type": "markdown",
   "id": "d994cb5a",
   "metadata": {},
   "source": [
    "### Load meta file\n",
    "\n",
    "Meta file includes the information needed to pre-process our image data\n",
    "\n",
    "We have 10 classes. (hence the 10 in cifar-10)"
   ]
  },
  {
   "cell_type": "code",
   "execution_count": 9,
   "id": "d7369ff8",
   "metadata": {},
   "outputs": [
    {
     "data": {
      "text/plain": [
       "dict_keys(['num_cases_per_batch', 'label_names', 'num_vis'])"
      ]
     },
     "execution_count": 9,
     "metadata": {},
     "output_type": "execute_result"
    }
   ],
   "source": [
    "meta_file = r'../datasets/cifar-10/cifar-10-batches-py/batches.meta' # path in my local directory structure\n",
    "meta_data = unpickle(meta_file)\n",
    "meta_data.keys()"
   ]
  },
  {
   "cell_type": "code",
   "execution_count": 10,
   "id": "1c244c64",
   "metadata": {
    "scrolled": true
   },
   "outputs": [
    {
     "name": "stdout",
     "output_type": "stream",
     "text": [
      "10000\n",
      "['airplane', 'automobile', 'bird', 'cat', 'deer', 'dog', 'frog', 'horse', 'ship', 'truck']\n",
      "3072\n"
     ]
    }
   ],
   "source": [
    "print(meta_data['num_cases_per_batch'])\n",
    "print(meta_data['label_names'])\n",
    "print(meta_data['num_vis'])"
   ]
  },
  {
   "cell_type": "code",
   "execution_count": 11,
   "id": "54596267",
   "metadata": {
    "scrolled": true
   },
   "outputs": [
    {
     "name": "stdout",
     "output_type": "stream",
     "text": [
      "dict_keys(['batch_label', 'labels', 'data', 'filenames'])\n"
     ]
    }
   ],
   "source": [
    "batch_1_data = unpickle(batch_1_path)\n",
    "print(batch_1_data.keys())"
   ]
  },
  {
   "cell_type": "code",
   "execution_count": 12,
   "id": "120ef2a8",
   "metadata": {
    "scrolled": true
   },
   "outputs": [
    {
     "name": "stdout",
     "output_type": "stream",
     "text": [
      "Batch Label: training batch 1 of 5\n",
      "First File Name: leptodactylus_pentadactylus_s_000004.png\n",
      "First Target Vector: 6\n",
      "First Image Value(s): [ 59  43  50 ... 140  84  72]\n"
     ]
    }
   ],
   "source": [
    "print(f\"Batch Label: {batch_1_data['batch_label']}\", end=\"\\n\")\n",
    "print(f\"First File Name: {batch_1_data['filenames'][0:1][0]}\", end=\"\\n\")\n",
    "print(f\"First Target Vector: {batch_1_data['labels'][0:1][0]}\", end=\"\\n\")\n",
    "print(f\"First Image Value(s): {batch_1_data['data'][0:1][0]}\", end=\"\\n\")"
   ]
  },
  {
   "cell_type": "markdown",
   "id": "f7580b29",
   "metadata": {},
   "source": [
    "Batch 1 consists of 10,000 images. 3 channels of 32x32 images"
   ]
  },
  {
   "cell_type": "code",
   "execution_count": 13,
   "id": "e6212b3f",
   "metadata": {
    "scrolled": true
   },
   "outputs": [
    {
     "data": {
      "text/plain": [
       "(10000, 3072)"
      ]
     },
     "execution_count": 13,
     "metadata": {},
     "output_type": "execute_result"
    }
   ],
   "source": [
    "x_train = batch_1_data['data']\n",
    "x_train.shape"
   ]
  },
  {
   "cell_type": "markdown",
   "id": "e9f8212e",
   "metadata": {},
   "source": [
    "### Reshape And Transpose a Single Image"
   ]
  },
  {
   "cell_type": "markdown",
   "id": "2cecfaf0",
   "metadata": {},
   "source": [
    "Our image is a single dimension array of size 3072. First 1024 entries of the array are of Red channel, next 1024 entries are of Green channel, and last 1024 entries are of Blue channel. Total 3072 entries are of three RGB channels. "
   ]
  },
  {
   "cell_type": "code",
   "execution_count": 14,
   "id": "ef66dd65",
   "metadata": {
    "scrolled": true
   },
   "outputs": [
    {
     "name": "stdout",
     "output_type": "stream",
     "text": [
      "(3, 32, 32)\n"
     ]
    }
   ],
   "source": [
    "image_np = batch_1_data['data'][0]\n",
    "image_np = image_np.reshape(3,32,32)\n",
    "print(image_np.shape)"
   ]
  },
  {
   "cell_type": "markdown",
   "id": "cbf8c88d",
   "metadata": {},
   "source": [
    "Next we transpose the reshaped image to get the image of shape (32,32,3). We use image.transpose(1,2,0).\n",
    "https://numpy.org/doc/stable/reference/generated/numpy.transpose.html"
   ]
  },
  {
   "cell_type": "code",
   "execution_count": 15,
   "id": "ed017410",
   "metadata": {},
   "outputs": [
    {
     "name": "stdout",
     "output_type": "stream",
     "text": [
      "(32, 32, 3)\n"
     ]
    }
   ],
   "source": [
    "image_np = image_np.transpose(1,2,0) # type np array\n",
    "print(image_np.shape)"
   ]
  },
  {
   "cell_type": "markdown",
   "id": "b0fa03c6",
   "metadata": {},
   "source": [
    "### Reshape And Transpose CIFAR-10 Dataset"
   ]
  },
  {
   "cell_type": "code",
   "execution_count": 16,
   "id": "dd0b3249",
   "metadata": {
    "scrolled": false
   },
   "outputs": [
    {
     "name": "stdout",
     "output_type": "stream",
     "text": [
      "Shape before reshape: (32, 32, 3)\n",
      "Shape after reshape and before transpose: (10000, 3, 32, 32)\n",
      "Shape after reshape and transpose: (10000, 32, 32, 3)\n"
     ]
    }
   ],
   "source": [
    "X_train = batch_1_data['data']\n",
    "print(\"Shape before reshape:\", image_np.shape)\n",
    "# Reshape the whole image data\n",
    "X_train = X_train.reshape(len(X_train),3,32,32)\n",
    "print(\"Shape after reshape and before transpose:\", X_train.shape)\n",
    "# Transpose the whole data\n",
    "X_train = X_train.transpose(0,2,3,1)\n",
    "print(\"Shape after reshape and transpose:\", X_train.shape)"
   ]
  },
  {
   "cell_type": "markdown",
   "id": "d11daf19",
   "metadata": {},
   "source": [
    "### Viewing an image in PLT"
   ]
  },
  {
   "cell_type": "code",
   "execution_count": 58,
   "id": "f4ff8a80",
   "metadata": {
    "scrolled": false
   },
   "outputs": [
    {
     "data": {
      "image/png": "[encoded data removed]",
      "text/html": [
       "<div style=\"vertical-align: middle;\"><strong>viridis</strong> </div><div class=\"cmap\"><img alt=\"viridis colormap\" title=\"viridis\" style=\"border: 1px solid #555;\" src=\"data:image/png;base64,iVBORw0KGgoAAAANSUhEUgAAAgAAAABACAYAAABsv8+/AAAAFnRFWHRUaXRsZQB2aXJpZGlzIGNvbG9ybWFwrE0mCwAAABx0RVh0RGVzY3JpcHRpb24AdmlyaWRpcyBjb2xvcm1hcAtjl3IAAAAwdEVYdEF1dGhvcgBNYXRwbG90bGliIHYzLjcuMSwgaHR0cHM6Ly9tYXRwbG90bGliLm9yZyqv+E0AAAAydEVYdFNvZnR3YXJlAE1hdHBsb3RsaWIgdjMuNy4xLCBodHRwczovL21hdHBsb3RsaWIub3JnBAlnagAAAiJJREFUeJzt1kGSmzAURdEv2FqWkP0vJfQgMhQCGceV2Ttn4pL0EVQPum771X5vVVXVWv39XfrPeV193V5zS98f1sf5/fPjey73zu6/3Hv/uz2cz57f9vP68rxO9+/zre7nhvvG+et6vH92bw3PDfcsD+eX59+/53n96f3362/f87/vf5yr93Of72/fPV9P89tX3zGeH3OT8/07Zs+/32+TuXZZD8/VODf8W5uuH/b7vctlfuv7NazH8/t7ZnP7bz2cD3NL+/Ph3Hl+/efz83vWun/vuL++nquH9eu9w/uu6/vvOO49f/8xf77vOj+8b7Y/fMfse9ca/y7nv+d62a++X+f1vt+G/b7u+/u6TxzzS//tc2053QMABBEAABBIAABAIAEAAIEEAAAEEgAAEEgAAEAgAQAAgQQAAAQSAAAQSAAAQCABAACBBAAABBIAABBIAABAIAEAAIEEAAAEEgAAEEgAAEAgAQAAgQQAAAQSAAAQSAAAQCABAACBBAAABBIAABBIAABAIAEAAIEEAAAEEgAAEEgAAEAgAQAAgQQAAAQSAAAQSAAAQCABAACBBAAABBIAABBIAABAIAEAAIEEAAAEEgAAEEgAAEAgAQAAgQQAAAQSAAAQSAAAQCABAACBBAAABBIAABBIAABAIAEAAIEEAAAEEgAAEEgAAEAgAQAAgQQAAAQSAAAQSAAAQCABAACBBAAABBIAABBIAABAoB9ucImHxcKZtAAAAABJRU5ErkJggg==\"></div><div style=\"vertical-align: middle; max-width: 514px; display: flex; justify-content: space-between;\"><div style=\"float: left;\"><div title=\"#440154ff\" style=\"display: inline-block; width: 1em; height: 1em; margin: 0; vertical-align: middle; border: 1px solid #555; background-color: #440154ff;\"></div> under</div><div style=\"margin: 0 auto; display: inline-block;\">bad <div title=\"#00000000\" style=\"display: inline-block; width: 1em; height: 1em; margin: 0; vertical-align: middle; border: 1px solid #555; background-color: #00000000;\"></div></div><div style=\"float: right;\">over <div title=\"#fde725ff\" style=\"display: inline-block; width: 1em; height: 1em; margin: 0; vertical-align: middle; border: 1px solid #555; background-color: #fde725ff;\"></div></div>"
      ],
      "text/plain": [
       "<matplotlib.colors.ListedColormap at 0x7fa2ae63cb80>"
      ]
     },
     "execution_count": 58,
     "metadata": {},
     "output_type": "execute_result"
    },
    {
     "data": {
      "image/png": "[encoded data removed]",
      "text/plain": [
       "<Figure size 640x480 with 1 Axes>"
      ]
     },
     "metadata": {},
     "output_type": "display_data"
    }
   ],
   "source": [
    "label_name = meta_data['label_names'] # label names\n",
    "\n",
    "image = batch_1_data['data'][0]       # take first image\n",
    "\n",
    "label = batch_1_data['labels'][0]     # take first image label index\n",
    "\n",
    "image = image.reshape(3,32,32)        # Reshape the image\n",
    "\n",
    "image = image.transpose(1,2,0)        # Transpose the image\n",
    "\n",
    "plt.imshow(image)                     # Display the image\n",
    "plt.title(label_name[label])\n",
    "plt.get_cmap()"
   ]
  },
  {
   "cell_type": "markdown",
   "id": "cb503c86",
   "metadata": {},
   "source": [
    "#### Lets do some affine transformations on our image for fun"
   ]
  },
  {
   "cell_type": "code",
   "execution_count": 46,
   "id": "e53dff06",
   "metadata": {},
   "outputs": [],
   "source": [
    "red_channel = image[:,:, 0]\n",
    "green_channel = image[:,:, 1]\n",
    "blue_channel = image[:,:, 2]"
   ]
  },
  {
   "cell_type": "markdown",
   "id": "5d017d8a",
   "metadata": {},
   "source": [
    "Note that white means high amount of red, green, or blue (close to 255). Darks mean very little red, green, or blue (close to zero) "
   ]
  },
  {
   "cell_type": "code",
   "execution_count": 56,
   "id": "1ed50e71",
   "metadata": {
    "scrolled": true
   },
   "outputs": [
    {
     "data": {
      "image/png": "[encoded data removed]",
      "text/html": [
       "<div style=\"vertical-align: middle;\"><strong>Reds</strong> </div><div class=\"cmap\"><img alt=\"Reds colormap\" title=\"Reds\" style=\"border: 1px solid #555;\" src=\"data:image/png;base64,iVBORw0KGgoAAAANSUhEUgAAAgAAAABACAYAAABsv8+/AAAAE3RFWHRUaXRsZQBSZWRzIGNvbG9ybWFw8oMNLwAAABl0RVh0RGVzY3JpcHRpb24AUmVkcyBjb2xvcm1hcHkxnbcAAAAwdEVYdEF1dGhvcgBNYXRwbG90bGliIHYzLjcuMSwgaHR0cHM6Ly9tYXRwbG90bGliLm9yZyqv+E0AAAAydEVYdFNvZnR3YXJlAE1hdHBsb3RsaWIgdjMuNy4xLCBodHRwczovL21hdHBsb3RsaWIub3JnBAlnagAAAedJREFUeJzt1rFugzAYhVG37/+wXbraGRqIMBjTKFGGe87Swm8wJGr1fbXfn1ZKKa21Uv5+KfdftsdvP18+su/uvVs9P66j+eB8Pb9v++f6688zOZ7tM5rP9hvNh/s9e91rnnP//Y+uvzh/9roPzdf3r9t1bXK8rF//rPr1u3XX9hmtn19frl0/OP8Yt+029Xg+Pl5uP1hXz+9TL+9zfL/+47x6n/tt1o/x8W+5bc7XyXx9/3I+b928/xr7+f6+x/P9c3b7dz9r9/612+dV8/65Huva4Lr3zpfP7bsAAHEEAAAEEgAAEEgAAEAgAQAAgQQAAAQSAAAQSAAAQCABAACBBAAABBIAABBIAABAIAEAAIEEAAAEEgAAEEgAAEAgAQAAgQQAAAQSAAAQSAAAQCABAACBBAAABBIAABBIAABAIAEAAIEEAAAEEgAAEEgAAEAgAQAAgQQAAAQSAAAQSAAAQCABAACBBAAABBIAABBIAABAIAEAAIEEAAAEEgAAEEgAAEAgAQAAgQQAAAQSAAAQSAAAQCABAACBBAAABBIAABBIAABAIAEAAIEEAAAEEgAAEEgAAEAgAQAAgQQAAAQSAAAQSAAAQCABAACBBAAABBIAABBIAABAIAEAAIEEAAAEEgAAEOgGT1T7Aapw4wcAAAAASUVORK5CYII=\"></div><div style=\"vertical-align: middle; max-width: 514px; display: flex; justify-content: space-between;\"><div style=\"float: left;\"><div title=\"#fff5f0ff\" style=\"display: inline-block; width: 1em; height: 1em; margin: 0; vertical-align: middle; border: 1px solid #555; background-color: #fff5f0ff;\"></div> under</div><div style=\"margin: 0 auto; display: inline-block;\">bad <div title=\"#00000000\" style=\"display: inline-block; width: 1em; height: 1em; margin: 0; vertical-align: middle; border: 1px solid #555; background-color: #00000000;\"></div></div><div style=\"float: right;\">over <div title=\"#67000dff\" style=\"display: inline-block; width: 1em; height: 1em; margin: 0; vertical-align: middle; border: 1px solid #555; background-color: #67000dff;\"></div></div>"
      ],
      "text/plain": [
       "<matplotlib.colors.LinearSegmentedColormap at 0x7fa2ae67e880>"
      ]
     },
     "execution_count": 56,
     "metadata": {},
     "output_type": "execute_result"
    },
    {
     "data": {
      "image/png": "[encoded data removed]",
      "text/plain": [
       "<Figure size 640x480 with 1 Axes>"
      ]
     },
     "metadata": {},
     "output_type": "display_data"
    }
   ],
   "source": [
    "plt.imshow(red_channel, cmap='Reds')\n",
    "plt.get_cmap(name='Reds')"
   ]
  },
  {
   "cell_type": "code",
   "execution_count": 57,
   "id": "6ddea711",
   "metadata": {},
   "outputs": [
    {
     "data": {
      "image/png": "[encoded data removed]",
      "text/html": [
       "<div style=\"vertical-align: middle;\"><strong>Greens</strong> </div><div class=\"cmap\"><img alt=\"Greens colormap\" title=\"Greens\" style=\"border: 1px solid #555;\" src=\"data:image/png;base64,iVBORw0KGgoAAAANSUhEUgAAAgAAAABACAYAAABsv8+/AAAAFXRFWHRUaXRsZQBHcmVlbnMgY29sb3JtYXAlazwlAAAAG3RFWHREZXNjcmlwdGlvbgBHcmVlbnMgY29sb3JtYXBs/CTBAAAAMHRFWHRBdXRob3IATWF0cGxvdGxpYiB2My43LjEsIGh0dHBzOi8vbWF0cGxvdGxpYi5vcmcqr/hNAAAAMnRFWHRTb2Z0d2FyZQBNYXRwbG90bGliIHYzLjcuMSwgaHR0cHM6Ly9tYXRwbG90bGliLm9yZwQJZ2oAAAHlSURBVHic7dbLbtNAAEDRgf//XcQG2SygTjypcRwiWNxzNq0zD4+dVrpfvv/4to4xxrquY4wx1vHr54ftehu/jdyPb59f3Ge9++1/7PP43J9/fjT/6XkX18/n/mf3n66X7Xr54/zlYf175i+n510O9jt6nuW5593OOZ3r4Pzze5r3ed/+03Of7r+ff77/2F0/7Pfueb/H53WX523PfzZvf575va/T+qvj43T9e+7z9+f4fHx5+v7X5s3f36v7fMy7/P3N/++3P4Td+7rbYEwH3887XHcyfrTf7cFeXPfaOb8OACBHAABAkAAAgCABAABBAgAAggQAAAQJAAAIEgAAECQAACBIAABAkAAAgCABAABBAgAAggQAAAQJAAAIEgAAECQAACBIAABAkAAAgCABAABBAgAAggQAAAQJAAAIEgAAECQAACBIAABAkAAAgCABAABBAgAAggQAAAQJAAAIEgAAECQAACBIAABAkAAAgCABAABBAgAAggQAAAQJAAAIEgAAECQAACBIAABAkAAAgCABAABBAgAAggQAAAQJAAAIEgAAECQAACBIAABAkAAAgCABAABBAgAAggQAAAQJAAAIEgAAECQAACBIAABAkAAAgCABAABBAgAAggQAAAQJAAAI+gkQGk78tuE8FwAAAABJRU5ErkJggg==\"></div><div style=\"vertical-align: middle; max-width: 514px; display: flex; justify-content: space-between;\"><div style=\"float: left;\"><div title=\"#f7fcf5ff\" style=\"display: inline-block; width: 1em; height: 1em; margin: 0; vertical-align: middle; border: 1px solid #555; background-color: #f7fcf5ff;\"></div> under</div><div style=\"margin: 0 auto; display: inline-block;\">bad <div title=\"#00000000\" style=\"display: inline-block; width: 1em; height: 1em; margin: 0; vertical-align: middle; border: 1px solid #555; background-color: #00000000;\"></div></div><div style=\"float: right;\">over <div title=\"#00441bff\" style=\"display: inline-block; width: 1em; height: 1em; margin: 0; vertical-align: middle; border: 1px solid #555; background-color: #00441bff;\"></div></div>"
      ],
      "text/plain": [
       "<matplotlib.colors.LinearSegmentedColormap at 0x7fa2ae662100>"
      ]
     },
     "execution_count": 57,
     "metadata": {},
     "output_type": "execute_result"
    },
    {
     "data": {
      "image/png": "[encoded data removed]",
      "text/plain": [
       "<Figure size 640x480 with 1 Axes>"
      ]
     },
     "metadata": {},
     "output_type": "display_data"
    }
   ],
   "source": [
    "plt.imshow(green_channel, cmap='Greens')\n",
    "plt.get_cmap(name='Greens')"
   ]
  },
  {
   "cell_type": "code",
   "execution_count": 59,
   "id": "dbd09001",
   "metadata": {
    "scrolled": true
   },
   "outputs": [
    {
     "data": {
      "image/png": "[encoded data removed]",
      "text/html": [
       "<div style=\"vertical-align: middle;\"><strong>Blues</strong> </div><div class=\"cmap\"><img alt=\"Blues colormap\" title=\"Blues\" style=\"border: 1px solid #555;\" src=\"data:image/png;base64,iVBORw0KGgoAAAANSUhEUgAAAgAAAABACAYAAABsv8+/AAAAFHRFWHRUaXRsZQBCbHVlcyBjb2xvcm1hcIbbCAEAAAAadEVYdERlc2NyaXB0aW9uAEJsdWVzIGNvbG9ybWFweISh5wAAADB0RVh0QXV0aG9yAE1hdHBsb3RsaWIgdjMuNy4xLCBodHRwczovL21hdHBsb3RsaWIub3JnKq/4TQAAADJ0RVh0U29mdHdhcmUATWF0cGxvdGxpYiB2My43LjEsIGh0dHBzOi8vbWF0cGxvdGxpYi5vcmcECWdqAAAB00lEQVR4nO3WwU7rMAAAQcP//y8HpIQDJQi3Vopa3uHtzCVynDhxCdK+vL3v+xhj7J+HcTmMy+E4P47x7fnjqgfnp8ct57/Xe2z+3v397/Pz77ON+XvYfze/OP81vn/+9ntuV+89z6/2d1l/Hh/X397fdhwX+5zWOV3/5Pz8HqfXLe9fvN/8+yzuv/p7zPNX+zj5Ts6et1pvsY9717v6bk72cz4+2df2rOf87rmPr/vzH281f+91z1rnr5439u3rhp/jbRqvrnv6+F8953P8OgCAHAEAAEECAACCBAAABAkAAAgSAAAQJAAAIEgAAECQAACAIAEAAEECAACCBAAABAkAAAgSAAAQJAAAIEgAAECQAACAIAEAAEECAACCBAAABAkAAAgSAAAQJAAAIEgAAECQAACAIAEAAEECAACCBAAABAkAAAgSAAAQJAAAIEgAAECQAACAIAEAAEECAACCBAAABAkAAAgSAAAQJAAAIEgAAECQAACAIAEAAEECAACCBAAABAkAAAgSAAAQJAAAIEgAAECQAACAIAEAAEECAACCBAAABAkAAAgSAAAQJAAAIEgAAECQAACAIAEAAEECAACCBAAABAkAAAgSAAAQJAAAIOgDfCcYQIPsTRMAAAAASUVORK5CYII=\"></div><div style=\"vertical-align: middle; max-width: 514px; display: flex; justify-content: space-between;\"><div style=\"float: left;\"><div title=\"#f7fbffff\" style=\"display: inline-block; width: 1em; height: 1em; margin: 0; vertical-align: middle; border: 1px solid #555; background-color: #f7fbffff;\"></div> under</div><div style=\"margin: 0 auto; display: inline-block;\">bad <div title=\"#00000000\" style=\"display: inline-block; width: 1em; height: 1em; margin: 0; vertical-align: middle; border: 1px solid #555; background-color: #00000000;\"></div></div><div style=\"float: right;\">over <div title=\"#08306bff\" style=\"display: inline-block; width: 1em; height: 1em; margin: 0; vertical-align: middle; border: 1px solid #555; background-color: #08306bff;\"></div></div>"
      ],
      "text/plain": [
       "<matplotlib.colors.LinearSegmentedColormap at 0x7fa2ae5db100>"
      ]
     },
     "execution_count": 59,
     "metadata": {},
     "output_type": "execute_result"
    },
    {
     "data": {
      "image/png": "[encoded data removed]",
      "text/plain": [
       "<Figure size 640x480 with 1 Axes>"
      ]
     },
     "metadata": {},
     "output_type": "display_data"
    }
   ],
   "source": [
    "plt.imshow(blue_channel, cmap='Blues')\n",
    "plt.get_cmap(name='Blues')"
   ]
  },
  {
   "cell_type": "code",
   "execution_count": 18,
   "id": "0da04cb5",
   "metadata": {
    "scrolled": true
   },
   "outputs": [
    {
     "data": {
      "text/plain": [
       "(32, 32, 3)"
      ]
     },
     "execution_count": 18,
     "metadata": {},
     "output_type": "execute_result"
    }
   ],
   "source": [
    "image.shape"
   ]
  },
  {
   "cell_type": "code",
   "execution_count": 19,
   "id": "d30b8ddf",
   "metadata": {},
   "outputs": [
    {
     "data": {
      "text/plain": [
       "(32, 32, 3)"
      ]
     },
     "execution_count": 19,
     "metadata": {},
     "output_type": "execute_result"
    },
    {
     "data": {
      "image/png": "[encoded data removed]",
      "text/plain": [
       "<Figure size 640x480 with 1 Axes>"
      ]
     },
     "metadata": {},
     "output_type": "display_data"
    }
   ],
   "source": [
    "image_flipped = np.flip(image, axis=0)\n",
    "plt.imshow(image_flipped)\n",
    "image_flipped.shape"
   ]
  },
  {
   "cell_type": "code",
   "execution_count": 20,
   "id": "c29e7ccb",
   "metadata": {},
   "outputs": [
    {
     "data": {
      "text/plain": [
       "(32, 32, 3)"
      ]
     },
     "execution_count": 20,
     "metadata": {},
     "output_type": "execute_result"
    },
    {
     "data": {
      "image/png": "[encoded data removed]",
      "text/plain": [
       "<Figure size 640x480 with 1 Axes>"
      ]
     },
     "metadata": {},
     "output_type": "display_data"
    }
   ],
   "source": [
    "image_mirrored = np.flip(image, axis=1)\n",
    "plt.imshow(image_mirrored)\n",
    "image_mirrored.shape"
   ]
  },
  {
   "cell_type": "code",
   "execution_count": 21,
   "id": "ed9aa14f",
   "metadata": {
    "scrolled": false
   },
   "outputs": [
    {
     "data": {
      "text/plain": [
       "(32, 32, 3)"
      ]
     },
     "execution_count": 21,
     "metadata": {},
     "output_type": "execute_result"
    },
    {
     "data": {
      "image/png": "[encoded data removed]",
      "text/plain": [
       "<Figure size 640x480 with 1 Axes>"
      ]
     },
     "metadata": {},
     "output_type": "display_data"
    }
   ],
   "source": [
    "image_color_noblue = np.flip(image, axis=2)\n",
    "plt.imshow(image_color_inverted)\n",
    "image_color_inverted.shape"
   ]
  },
  {
   "cell_type": "code",
   "execution_count": 23,
   "id": "936e4f69",
   "metadata": {
    "scrolled": true
   },
   "outputs": [
    {
     "data": {
      "text/plain": [
       "<matplotlib.image.AxesImage at 0x7fa2c55411c0>"
      ]
     },
     "execution_count": 23,
     "metadata": {},
     "output_type": "execute_result"
    },
    {
     "data": {
      "image/png": "[encoded data removed]",
      "text/plain": [
       "<Figure size 640x480 with 1 Axes>"
      ]
     },
     "metadata": {},
     "output_type": "display_data"
    }
   ],
   "source": [
    "t = abs(image_color_inverted - image)\n",
    "plt.imshow(t)"
   ]
  },
  {
   "cell_type": "code",
   "execution_count": 24,
   "id": "89e16c8a",
   "metadata": {},
   "outputs": [
    {
     "data": {
      "text/plain": [
       "array([[  4,   0, 252],\n",
       "       [  2,   0, 254],\n",
       "       [249,   0,   7],\n",
       "       [230,   0,  26],\n",
       "       [210,   0,  46],\n",
       "       [200,   0,  56],\n",
       "       [192,   0,  64],\n",
       "       [191,   0,  65],\n",
       "       [196,   0,  60],\n",
       "       [200,   0,  56],\n",
       "       [202,   0,  54],\n",
       "       [207,   0,  49],\n",
       "       [205,   0,  51],\n",
       "       [198,   0,  58],\n",
       "       [198,   0,  58],\n",
       "       [198,   0,  58],\n",
       "       [198,   0,  58],\n",
       "       [198,   0,  58],\n",
       "       [196,   0,  60],\n",
       "       [195,   0,  61],\n",
       "       [192,   0,  64],\n",
       "       [192,   0,  64],\n",
       "       [194,   0,  62],\n",
       "       [194,   0,  62],\n",
       "       [193,   0,  63],\n",
       "       [193,   0,  63],\n",
       "       [196,   0,  60],\n",
       "       [199,   0,  57],\n",
       "       [202,   0,  54],\n",
       "       [206,   0,  50],\n",
       "       [206,   0,  50],\n",
       "       [211,   0,  45]], dtype=uint8)"
      ]
     },
     "execution_count": 24,
     "metadata": {},
     "output_type": "execute_result"
    }
   ],
   "source": []
  },
  {
   "cell_type": "markdown",
   "id": "22bb208d",
   "metadata": {},
   "source": [
    "### Viewing Multiple Images From CIFAR-10 Dataset\n",
    "\n",
    "We visualize some randomly selected images from the training data batch."
   ]
  },
  {
   "cell_type": "code",
   "execution_count": null,
   "id": "d4cd87bd",
   "metadata": {},
   "outputs": [],
   "source": [
    "images_np = batch_1_data['data']\n",
    "images_np.shape"
   ]
  },
  {
   "cell_type": "code",
   "execution_count": null,
   "id": "564f4231",
   "metadata": {},
   "outputs": [],
   "source": [
    "# reshape and transpose data into PLT format\n",
    "images_np = images_np.reshape(len(images_np), 3, 32, 32)\n",
    "images_np.shape"
   ]
  },
  {
   "cell_type": "code",
   "execution_count": null,
   "id": "ce56831c",
   "metadata": {},
   "outputs": [],
   "source": [
    "images_np_plt_format = images_np.transpose(0, 2, 3, 1)\n",
    "images_np_plt_format.shape"
   ]
  },
  {
   "cell_type": "markdown",
   "id": "946e7b2d",
   "metadata": {},
   "source": [
    "# Baby's first Neural Network"
   ]
  },
  {
   "cell_type": "code",
   "execution_count": null,
   "id": "3c340c67",
   "metadata": {},
   "outputs": [],
   "source": [
    "# Create input_tensor with three features\n",
    "input_tensor = torch.tensor(\n",
    "    [[0.3371, 0.4547, -0.2356]]\n",
    ")\n",
    "\n",
    "# linear layer takes an input, applies a linear function, and returns output\n",
    "# in_features: num layers input\n",
    "# out_features: num layers output\n",
    "linear_layer = nn.Linear(in_features=3, out_features=2)\n",
    "\n",
    "output = linear_layer(input_tensor)\n",
    "print(output)\n"
   ]
  },
  {
   "cell_type": "code",
   "execution_count": null,
   "id": "c4aa3f9b",
   "metadata": {},
   "outputs": [],
   "source": [
    "# Define transformations to apply to the dataset\n",
    "transform = transforms.Compose([\n",
    "    transforms.ToTensor(),           # Convert images to tensors\n",
    "    transforms.Normalize((0.5, 0.5, 0.5), (0.5, 0.5, 0.5))  # Normalize the pixel values\n",
    "])\n",
    "\n",
    "# get CIFAR10 from local directory\n",
    "dataset = torchvision.datasets.CIFAR10(root='./cifar-10', train=True, transform=transform, download=False)"
   ]
  }
 ],
 "metadata": {
  "kernelspec": {
   "display_name": "Python [conda env:PyTorchCourse] *",
   "language": "python",
   "name": "conda-env-PyTorchCourse-py"
  },
  "language_info": {
   "codemirror_mode": {
    "name": "ipython",
    "version": 3
   },
   "file_extension": ".py",
   "mimetype": "text/x-python",
   "name": "python",
   "nbconvert_exporter": "python",
   "pygments_lexer": "ipython3",
   "version": "3.9.17"
  }
 },
 "nbformat": 4,
 "nbformat_minor": 5
}
