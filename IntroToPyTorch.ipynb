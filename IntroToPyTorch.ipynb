{
 "cells": [
  {
   "cell_type": "markdown",
   "id": "da86a5e5",
   "metadata": {},
   "source": [
    "# Introduction to deep learning with PyTorch"
   ]
  },
  {
   "cell_type": "code",
   "execution_count": 1,
   "id": "45995b47",
   "metadata": {},
   "outputs": [
    {
     "name": "stdout",
     "output_type": "stream",
     "text": [
      "cpu\n",
      "torch.int64\n"
     ]
    }
   ],
   "source": [
    "# Import PyTorch\n",
    "import torch\n",
    "import torchvision\n",
    "import numpy\n",
    "import torch.nn as nn\n",
    "\n",
    "list_a = [1, 2, 3, 4]\n",
    "\n",
    "# Create a tensor from list_a\n",
    "tensor_a = torch.tensor(list_a)\n",
    "\n",
    "# Display the tensor device\n",
    "print(tensor_a.device)\n",
    "\n",
    "# Display the tensor data type\n",
    "print(tensor_a.dtype)"
   ]
  },
  {
   "cell_type": "code",
   "execution_count": 2,
   "id": "7ae4d83a",
   "metadata": {},
   "outputs": [
    {
     "data": {
      "text/plain": [
       "True"
      ]
     },
     "execution_count": 2,
     "metadata": {},
     "output_type": "execute_result"
    }
   ],
   "source": [
    "torch.cuda.is_available()"
   ]
  },
  {
   "cell_type": "code",
   "execution_count": 3,
   "id": "0142220d",
   "metadata": {},
   "outputs": [
    {
     "data": {
      "text/plain": [
       "<torch.cuda.device at 0x7ff178105e50>"
      ]
     },
     "execution_count": 3,
     "metadata": {},
     "output_type": "execute_result"
    }
   ],
   "source": [
    "torch.cuda.device(0)"
   ]
  },
  {
   "cell_type": "code",
   "execution_count": 4,
   "id": "9de8a2d4",
   "metadata": {},
   "outputs": [
    {
     "data": {
      "text/plain": [
       "'NVIDIA GeForce RTX 3080 Ti'"
      ]
     },
     "execution_count": 4,
     "metadata": {},
     "output_type": "execute_result"
    }
   ],
   "source": [
    "torch.cuda.get_device_name(0)"
   ]
  },
  {
   "cell_type": "markdown",
   "id": "b94bb6d3",
   "metadata": {},
   "source": [
    "# Move the tensor to be used on the GPU"
   ]
  },
  {
   "cell_type": "code",
   "execution_count": 5,
   "id": "1d1a9417",
   "metadata": {},
   "outputs": [
    {
     "name": "stdout",
     "output_type": "stream",
     "text": [
      "tensor([2, 4, 6], device='cuda:0')\n"
     ]
    }
   ],
   "source": [
    "import torch\n",
    "\n",
    "# Create a tensor on CPU\n",
    "tensor_cpu = torch.tensor([1, 2, 3])\n",
    "\n",
    "# Check if a GPU is available\n",
    "if torch.cuda.is_available():\n",
    "    # Move the tensor to GPU\n",
    "    tensor_gpu = tensor_cpu.to('cuda')\n",
    "    # Alternatively, you can also use tensor_gpu = tensor_cpu.cuda()\n",
    "    # Now tensor_gpu resides on the GPU and computations will be done there\n",
    "else:\n",
    "    print(\"No GPU available, performing computations on CPU.\")\n",
    "\n",
    "# Perform operations on the tensor\n",
    "result = tensor_gpu * 2\n",
    "print(result)\n"
   ]
  },
  {
   "cell_type": "code",
   "execution_count": 7,
   "id": "54807b16",
   "metadata": {
    "scrolled": true
   },
   "outputs": [
    {
     "data": {
      "text/plain": [
       "device(type='cuda', index=0)"
      ]
     },
     "execution_count": 7,
     "metadata": {},
     "output_type": "execute_result"
    }
   ],
   "source": [
    "tensor_gpu.device"
   ]
  },
  {
   "cell_type": "markdown",
   "id": "66ac6dc4",
   "metadata": {},
   "source": [
    "# Reading in CIFAR 10 dataset"
   ]
  },
  {
   "cell_type": "code",
   "execution_count": 3,
   "id": "d6ed5083",
   "metadata": {},
   "outputs": [],
   "source": [
    "# The CIFAR 10 dataset's pickled python peppers are given in 5 batches\n",
    "# Dataset: https://www.cs.toronto.edu/~kriz/cifar.html\n",
    "# For help see: https://www.binarystudy.com/2021/09/how-to-load-preprocess-visualize-CIFAR-10-and-CIFAR-100.html#download\n",
    "\n",
    "# batches are relative to this directory\n",
    "batch_1_path = '../datasets/cifar-10/cifar-10-batches-py/data_batch_1'\n",
    "batch_2_path = '../datasets/cifar-10/cifar-10-batches-py/data_batch_2'\n",
    "batch_3_path = '../datasets/cifar-10/cifar-10-batches-py/data_batch_3'\n",
    "batch_4_path = '../datasets/cifar-10/cifar-10-batches-py/data_batch_4'\n",
    "batch_5_path = '../datasets/cifar-10/cifar-10-batches-py/data_batch_5'"
   ]
  },
  {
   "cell_type": "code",
   "execution_count": 4,
   "id": "e4f9b08a",
   "metadata": {},
   "outputs": [],
   "source": [
    "# reads our batched pickled binaries\n",
    "def unpickle(file):\n",
    "    import pickle\n",
    "    with open(file, 'rb') as fo:\n",
    "        # The protocol version used is detected automatically, so we do not\n",
    "        # have to specify it.\n",
    "        dict = pickle.load(fo, encoding='latin1')\n",
    "    return dict"
   ]
  },
  {
   "cell_type": "code",
   "execution_count": 12,
   "id": "c413beee",
   "metadata": {
    "scrolled": true
   },
   "outputs": [
    {
     "data": {
      "text/plain": [
       "dict_keys(['batch_label', 'labels', 'data', 'filenames'])"
      ]
     },
     "execution_count": 12,
     "metadata": {},
     "output_type": "execute_result"
    }
   ],
   "source": [
    "data_batch_1 = unpickle(batch_1_path)\n",
    "data_batch_1.keys()"
   ]
  },
  {
   "cell_type": "markdown",
   "id": "946e7b2d",
   "metadata": {},
   "source": [
    "# Baby's first Neural Network"
   ]
  },
  {
   "cell_type": "code",
   "execution_count": 11,
   "id": "3c340c67",
   "metadata": {},
   "outputs": [
    {
     "name": "stdout",
     "output_type": "stream",
     "text": [
      "tensor([[-0.2991,  0.4837]], grad_fn=<AddmmBackward0>)\n"
     ]
    }
   ],
   "source": [
    "# Create input_tensor with three features\n",
    "input_tensor = torch.tensor(\n",
    "    [[0.3371, 0.4547, -0.2356]]\n",
    ")\n",
    "\n",
    "# linear layer takes an input, applies a linear function, and returns output\n",
    "# in_features: num layers input\n",
    "# out_features: num layers output\n",
    "linear_layer = nn.Linear(in_features=3, out_features=2)\n",
    "\n",
    "output = linear_layer(input_tensor)\n",
    "print(output)\n"
   ]
  },
  {
   "cell_type": "code",
   "execution_count": null,
   "id": "c4aa3f9b",
   "metadata": {},
   "outputs": [],
   "source": [
    "# Define transformations to apply to the dataset\n",
    "transform = transforms.Compose([\n",
    "    transforms.ToTensor(),           # Convert images to tensors\n",
    "    transforms.Normalize((0.5, 0.5, 0.5), (0.5, 0.5, 0.5))  # Normalize the pixel values\n",
    "])\n",
    "\n",
    "# get CIFAR10 from local directory\n",
    "dataset = torchvision.datasets.CIFAR10(root='./cifar-10', train=True, transform=transform, download=False)"
   ]
  },
  {
   "cell_type": "code",
   "execution_count": null,
   "id": "4c7fc20b",
   "metadata": {},
   "outputs": [],
   "source": []
  }
 ],
 "metadata": {
  "kernelspec": {
   "display_name": "Python [conda env:PyTorchCourse] *",
   "language": "python",
   "name": "conda-env-PyTorchCourse-py"
  },
  "language_info": {
   "codemirror_mode": {
    "name": "ipython",
    "version": 3
   },
   "file_extension": ".py",
   "mimetype": "text/x-python",
   "name": "python",
   "nbconvert_exporter": "python",
   "pygments_lexer": "ipython3",
   "version": "3.9.17"
  }
 },
 "nbformat": 4,
 "nbformat_minor": 5
}
